{
  "nbformat": 4,
  "nbformat_minor": 0,
  "metadata": {
    "colab": {
      "provenance": []
    },
    "kernelspec": {
      "name": "python3",
      "display_name": "Python 3"
    },
    "language_info": {
      "name": "python"
    }
  },
  "cells": [
    {
      "cell_type": "code",
      "execution_count": 1,
      "metadata": {
        "colab": {
          "base_uri": "https://localhost:8080/"
        },
        "id": "q09IeDlESaTw",
        "outputId": "a56a7ce8-bf1b-4aa7-c2fe-9fbbbc9407e5"
      },
      "outputs": [
        {
          "output_type": "stream",
          "name": "stdout",
          "text": [
            "under_20: True\n",
            "not under_20: False\n"
          ]
        }
      ],
      "source": [
        "x = 10\n",
        "under_20 = x < 20\n",
        "print(\"under_20:\", under_20)\n",
        "print(\"not under_20:\", not under_20)"
      ]
    }
  ]
}