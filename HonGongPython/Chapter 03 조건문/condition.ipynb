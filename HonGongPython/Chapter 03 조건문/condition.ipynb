{
  "nbformat": 4,
  "nbformat_minor": 0,
  "metadata": {
    "colab": {
      "provenance": []
    },
    "kernelspec": {
      "name": "python3",
      "display_name": "Python 3"
    },
    "language_info": {
      "name": "python"
    }
  },
  "cells": [
    {
      "cell_type": "code",
      "execution_count": 3,
      "metadata": {
        "colab": {
          "base_uri": "https://localhost:8080/"
        },
        "id": "oczNQW6-YTQX",
        "outputId": "fdb8bfa6-8cb9-40d2-fde9-c7c70c156423"
      },
      "outputs": [
        {
          "output_type": "stream",
          "name": "stdout",
          "text": [
            "정수 입력> 273\n",
            "양수입니다\n"
          ]
        }
      ],
      "source": [
        "# 입력을 받습니다.\n",
        "number = input(\"정수 입력> \")\n",
        "number = int(number)\n",
        "\n",
        "# 양수 조건\n",
        "if number > 0:\n",
        "  print(\"양수입니다\")\n",
        "\n",
        "# 음수 조건\n",
        "if number < 0:\n",
        "  print(\"음수입니다\")\n",
        "\n",
        "# 0 조건\n",
        "if number == 0:\n",
        "  print(\"0입니다\")"
      ]
    }
  ]
}