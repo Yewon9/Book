{
  "nbformat": 4,
  "nbformat_minor": 0,
  "metadata": {
    "colab": {
      "provenance": []
    },
    "kernelspec": {
      "name": "python3",
      "display_name": "Python 3"
    },
    "language_info": {
      "name": "python"
    }
  },
  "cells": [
    {
      "cell_type": "code",
      "execution_count": 2,
      "metadata": {
        "colab": {
          "base_uri": "https://localhost:8080/"
        },
        "id": "dOA8IVapaiqC",
        "outputId": "407e864a-279d-4dfe-db0a-24bc2ee7eb6e"
      },
      "outputs": [
        {
          "output_type": "stream",
          "name": "stdout",
          "text": [
            "정수 입력> 52\n",
            "짝수입니다\n"
          ]
        }
      ],
      "source": [
        "# 입력을 받습니다.\n",
        "number = input(\"정수 입력> \")\n",
        "\n",
        "# 마지막 자리 숫자를 추출\n",
        "last_character = number[-1]\n",
        "\n",
        "# 숫자로 변환하기\n",
        "last_number = int(last_character)\n",
        "\n",
        "# 짝수 확인\n",
        "if last_number == 0 or last_number == 2 or last_number == 4 or last_number == 6 or last_number == 8:\n",
        "  print(\"짝수입니다\")\n",
        "\n",
        "# 홀수 확인\n",
        "if last_number == 1 or last_number == 3 or last_number == 5 or last_number == 7 or last_number == 9:\n",
        "  print(\"홀수입니다\")"
      ]
    }
  ]
}