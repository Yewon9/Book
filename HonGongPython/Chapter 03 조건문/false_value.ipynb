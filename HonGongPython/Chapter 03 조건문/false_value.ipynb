{
  "nbformat": 4,
  "nbformat_minor": 0,
  "metadata": {
    "colab": {
      "provenance": []
    },
    "kernelspec": {
      "name": "python3",
      "display_name": "Python 3"
    },
    "language_info": {
      "name": "python"
    }
  },
  "cells": [
    {
      "cell_type": "code",
      "execution_count": 9,
      "metadata": {
        "colab": {
          "base_uri": "https://localhost:8080/"
        },
        "id": "dOA8IVapaiqC",
        "outputId": "519403e9-1bc2-4c69-c428-470daf9da896"
      },
      "outputs": [
        {
          "output_type": "stream",
          "name": "stdout",
          "text": [
            "# if 조건문에 0 넣기\n",
            "0은 False로 변환됩니다\n",
            "\n",
            "# if 조건문에 빈 문자열 넣기\n",
            "빈 문자열은 False로 변환됩니다\n"
          ]
        }
      ],
      "source": [
        "print(\"# if 조건문에 0 넣기\")\n",
        "if 0:\n",
        "  print(\"0은 True로 변환됩니다\")\n",
        "else:\n",
        "  print(\"0은 False로 변환됩니다\")\n",
        "print()\n",
        "\n",
        "print(\"# if 조건문에 빈 문자열 넣기\")\n",
        "if \"\":\n",
        "  print(\"빈 문자열은 True로 변환됩니다\")\n",
        "else:\n",
        "  print(\"빈 문자열은 False로 변환됩니다\")"
      ]
    }
  ]
}