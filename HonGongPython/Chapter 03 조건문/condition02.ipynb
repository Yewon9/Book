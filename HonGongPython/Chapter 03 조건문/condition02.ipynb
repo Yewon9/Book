{
  "nbformat": 4,
  "nbformat_minor": 0,
  "metadata": {
    "colab": {
      "provenance": []
    },
    "kernelspec": {
      "name": "python3",
      "display_name": "Python 3"
    },
    "language_info": {
      "name": "python"
    }
  },
  "cells": [
    {
      "cell_type": "code",
      "execution_count": 3,
      "metadata": {
        "colab": {
          "base_uri": "https://localhost:8080/"
        },
        "id": "dOA8IVapaiqC",
        "outputId": "88c72a5a-417f-4aec-903d-45c619bc0561"
      },
      "outputs": [
        {
          "output_type": "stream",
          "name": "stdout",
          "text": [
            "정수 입력> 52\n",
            "짝수입니다\n"
          ]
        }
      ],
      "source": [
        "# 입력을 받습니다.\n",
        "number = input(\"정수 입력> \")\n",
        "last_character = number[-1]\n",
        "\n",
        "# 짝수 조건\n",
        "if last_character in \"02468\":\n",
        "  print(\"짝수입니다\")\n",
        "\n",
        "# 홀수 조건\n",
        "if last_character in \"13579\":\n",
        "  print(\"홀수입니다\")"
      ]
    }
  ]
}