{
  "nbformat": 4,
  "nbformat_minor": 0,
  "metadata": {
    "colab": {
      "provenance": []
    },
    "kernelspec": {
      "name": "python3",
      "display_name": "Python 3"
    },
    "language_info": {
      "name": "python"
    }
  },
  "cells": [
    {
      "cell_type": "code",
      "execution_count": 8,
      "metadata": {
        "colab": {
          "base_uri": "https://localhost:8080/"
        },
        "id": "dOA8IVapaiqC",
        "outputId": "1454e063-7591-46a8-a1e5-15deb0640f01"
      },
      "outputs": [
        {
          "output_type": "stream",
          "name": "stdout",
          "text": [
            "학점 입력> 3.4\n",
            "일반인\n"
          ]
        }
      ],
      "source": [
        "# 변수를 선언합니다.\n",
        "score = float(input(\"학점 입력> \"))\n",
        "\n",
        "# 조건문을 적용합니다.\n",
        "if score == 4.5:\n",
        "  print(\"신\")\n",
        "elif 4.2 <= score:\n",
        "  print(\"교수님의 사랑\")\n",
        "elif 3.5 <= score:\n",
        "  print(\"현 체제의 수호자\")\n",
        "elif 2.8 <= score:\n",
        "  print(\"일반인\")\n",
        "elif 2.3 <= score:\n",
        "  print(\"일탈을 꿈꾸는 소시민\")\n",
        "elif 1.75 <= score:\n",
        "  print(\"오락문화의 선구자\")\n",
        "elif 1.0 <= score:\n",
        "  print(\"불가촉천민\")\n",
        "elif 0.5 <= score:\n",
        "  print(\"자벌레\")\n",
        "elif 0 < score:\n",
        "  print(\"플랑크톤\")\n",
        "else:\n",
        "  print(\"시대를 앞서가는 혁명의 씨앗\")"
      ]
    }
  ]
}