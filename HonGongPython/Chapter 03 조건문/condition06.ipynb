{
  "nbformat": 4,
  "nbformat_minor": 0,
  "metadata": {
    "colab": {
      "provenance": []
    },
    "kernelspec": {
      "name": "python3",
      "display_name": "Python 3"
    },
    "language_info": {
      "name": "python"
    }
  },
  "cells": [
    {
      "cell_type": "code",
      "execution_count": 7,
      "metadata": {
        "colab": {
          "base_uri": "https://localhost:8080/"
        },
        "id": "dOA8IVapaiqC",
        "outputId": "66c1da97-d90a-4951-af60-856ef1fc253a"
      },
      "outputs": [
        {
          "output_type": "stream",
          "name": "stdout",
          "text": [
            "학점 입력> 3.4\n",
            "일반인\n"
          ]
        }
      ],
      "source": [
        "# 변수를 선언합니다.\n",
        "score = float(input(\"학점 입력> \"))\n",
        "\n",
        "# 조건문을 적용합니다.\n",
        "if score == 4.5:\n",
        "  print(\"신\")\n",
        "elif 4.2 <= score < 4.5:\n",
        "  print(\"교수님의 사랑\")\n",
        "elif 3.5 <= score < 4.2:\n",
        "  print(\"현 체제의 수호자\")\n",
        "elif 2.8 <= score < 3.5:\n",
        "  print(\"일반인\")\n",
        "elif 2.3 <= score < 2.8:\n",
        "  print(\"일탈을 꿈꾸는 소시민\")\n",
        "elif 1.75 <= score < 2.3:\n",
        "  print(\"오락문화의 선구자\")\n",
        "elif 1.0 <= score < 1.75:\n",
        "  print(\"불가촉천민\")\n",
        "elif 0.5 <= score < 1.0:\n",
        "  print(\"자벌레\")\n",
        "elif 0 < score < 0.5:\n",
        "  print(\"플랑크톤\")\n",
        "elif score == 0:\n",
        "  print(\"시대를 앞서가는 혁명의 씨앗\")"
      ]
    }
  ]
}