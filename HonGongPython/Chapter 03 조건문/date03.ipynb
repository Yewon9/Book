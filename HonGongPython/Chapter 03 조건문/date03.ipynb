{
  "nbformat": 4,
  "nbformat_minor": 0,
  "metadata": {
    "colab": {
      "provenance": []
    },
    "kernelspec": {
      "name": "python3",
      "display_name": "Python 3"
    },
    "language_info": {
      "name": "python"
    }
  },
  "cells": [
    {
      "cell_type": "code",
      "execution_count": 1,
      "metadata": {
        "colab": {
          "base_uri": "https://localhost:8080/"
        },
        "id": "dOA8IVapaiqC",
        "outputId": "48b0b147-0b31-4dda-f2e1-b9cc441636f9"
      },
      "outputs": [
        {
          "output_type": "stream",
          "name": "stdout",
          "text": [
            "이번 달은 6월로 여름입니다!\n"
          ]
        }
      ],
      "source": [
        "# 날짜/시간과 관련된 기능을 가져옵니다.\n",
        "import datetime\n",
        "\n",
        "# 현재 날짜/시간을 구합니다.\n",
        "now = datetime.datetime.now()\n",
        "\n",
        "# 봄 구분\n",
        "if 3 <= now.month <= 5:\n",
        "  print(\"이번 달은 {}월로 봄입니다!\".format(now.month))\n",
        "\n",
        "# 여름 구분\n",
        "if 6 <= now.month <= 8:\n",
        "  print(\"이번 달은 {}월로 여름입니다!\".format(now.month))\n",
        "\n",
        "# 가을 구분\n",
        "if 9 <= now.month <= 11:\n",
        "  print(\"이번 달은 {}월로 가을입니다!\".format(now.month))\n",
        "\n",
        "# 겨울 구분\n",
        "if now.month == 12 or 1 <= now.month <= 2:\n",
        "  print(\"이번 달은 {}월로 겨울입니다!\".format(now.month))"
      ]
    }
  ]
}