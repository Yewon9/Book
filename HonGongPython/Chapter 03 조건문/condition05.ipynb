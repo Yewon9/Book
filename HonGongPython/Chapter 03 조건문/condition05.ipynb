{
  "nbformat": 4,
  "nbformat_minor": 0,
  "metadata": {
    "colab": {
      "provenance": []
    },
    "kernelspec": {
      "name": "python3",
      "display_name": "Python 3"
    },
    "language_info": {
      "name": "python"
    }
  },
  "cells": [
    {
      "cell_type": "code",
      "execution_count": 6,
      "metadata": {
        "colab": {
          "base_uri": "https://localhost:8080/"
        },
        "id": "dOA8IVapaiqC",
        "outputId": "347846e3-d4d0-4413-dbd3-573190469ca0"
      },
      "outputs": [
        {
          "output_type": "stream",
          "name": "stdout",
          "text": [
            "현재는 여름입니다.\n"
          ]
        }
      ],
      "source": [
        "# 날짜/시간과 관련된 기능을 가져옵니다.\n",
        "import datetime\n",
        "\n",
        "# 현재 날짜/시간을 구하고\n",
        "# 쉽게 사용할 수 있게 월을 변수에 저장합니다.\n",
        "now = datetime.datetime.now()\n",
        "month = now.month\n",
        "\n",
        "# 조건문으로 계절을 확인합니다.\n",
        "if 3 <= month <= 5:\n",
        "  print(\"현재는 봄입니다.\")\n",
        "elif 6 <= month <= 8:\n",
        "  print(\"현재는 여름입니다.\")\n",
        "elif 9 <= month <= 11:\n",
        "  print(\"현재는 가을입니다.\")\n",
        "else:\n",
        "  print(\"현재는 겨울입니다.\")"
      ]
    }
  ]
}