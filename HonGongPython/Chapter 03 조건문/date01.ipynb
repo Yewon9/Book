{
  "nbformat": 4,
  "nbformat_minor": 0,
  "metadata": {
    "colab": {
      "provenance": []
    },
    "kernelspec": {
      "name": "python3",
      "display_name": "Python 3"
    },
    "language_info": {
      "name": "python"
    }
  },
  "cells": [
    {
      "cell_type": "code",
      "execution_count": 1,
      "metadata": {
        "colab": {
          "base_uri": "https://localhost:8080/"
        },
        "id": "x1CxVScQZbh9",
        "outputId": "01381a07-a986-4a6a-ebd0-f01baeb788ac"
      },
      "outputs": [
        {
          "output_type": "stream",
          "name": "stdout",
          "text": [
            "2023년 6월 13일 6시 17분 45초\n"
          ]
        }
      ],
      "source": [
        "# 날짜/시간과 관련된 기능을 가져옵니다.\n",
        "import datetime\n",
        "\n",
        "# 현재 날짜/시간을 구합니다.\n",
        "now = datetime.datetime.now()\n",
        "\n",
        "# 출력합니다.\n",
        "print(\"{}년 {}월 {}일 {}시 {}분 {}초\".format(\n",
        "    now.year,\n",
        "    now.month,\n",
        "    now.day,\n",
        "    now.hour,\n",
        "    now.minute,\n",
        "    now.second\n",
        "))"
      ]
    }
  ]
}