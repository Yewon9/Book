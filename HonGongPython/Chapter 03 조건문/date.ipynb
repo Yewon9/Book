{
  "nbformat": 4,
  "nbformat_minor": 0,
  "metadata": {
    "colab": {
      "provenance": []
    },
    "kernelspec": {
      "name": "python3",
      "display_name": "Python 3"
    },
    "language_info": {
      "name": "python"
    }
  },
  "cells": [
    {
      "cell_type": "code",
      "execution_count": 1,
      "metadata": {
        "colab": {
          "base_uri": "https://localhost:8080/"
        },
        "id": "EHQCqPrvY4xC",
        "outputId": "1403c47f-604c-4266-c6f4-4264ba4457e6"
      },
      "outputs": [
        {
          "output_type": "stream",
          "name": "stdout",
          "text": [
            "2023 년\n",
            "6 월\n",
            "13 일\n",
            "6 시\n",
            "15 분\n",
            "24 초\n"
          ]
        }
      ],
      "source": [
        "# 날짜/시간과 관련된 기능을 가져옵니다.\n",
        "import datetime\n",
        "\n",
        "# 현재 날짜/시간을 구합니다.\n",
        "now = datetime.datetime.now()\n",
        "\n",
        "# 출력합니다.\n",
        "print(now.year, \"년\")\n",
        "print(now.month, \"월\")\n",
        "print(now.day, \"일\")\n",
        "print(now.hour, \"시\")\n",
        "print(now.minute, \"분\")\n",
        "print(now.second, \"초\")"
      ]
    }
  ]
}