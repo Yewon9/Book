{
  "nbformat": 4,
  "nbformat_minor": 0,
  "metadata": {
    "colab": {
      "provenance": []
    },
    "kernelspec": {
      "name": "python3",
      "display_name": "Python 3"
    },
    "language_info": {
      "name": "python"
    }
  },
  "cells": [
    {
      "cell_type": "code",
      "execution_count": 5,
      "metadata": {
        "colab": {
          "base_uri": "https://localhost:8080/"
        },
        "id": "dOA8IVapaiqC",
        "outputId": "1488146e-e689-4311-e4f9-49151de066e2"
      },
      "outputs": [
        {
          "output_type": "stream",
          "name": "stdout",
          "text": [
            "정수 입력> 13\n",
            "홀수입니다\n"
          ]
        }
      ],
      "source": [
        "# 입력을 받습니다.\n",
        "number = input(\"정수 입력> \")\n",
        "number = int(number)\n",
        "\n",
        "# 조건문을 사용합니다.\n",
        "if number % 2 == 0:\n",
        "  # 조건이 참일 때, 즉 짝수 조건\n",
        "  print(\"짝수입니다\")\n",
        "else:\n",
        "  # 조건이 거짓일 때, 즉 홀수 조건\n",
        "  print(\"홀수입니다\")"
      ]
    }
  ]
}