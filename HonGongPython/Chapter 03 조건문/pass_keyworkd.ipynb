{
  "nbformat": 4,
  "nbformat_minor": 0,
  "metadata": {
    "colab": {
      "provenance": []
    },
    "kernelspec": {
      "name": "python3",
      "display_name": "Python 3"
    },
    "language_info": {
      "name": "python"
    }
  },
  "cells": [
    {
      "cell_type": "code",
      "execution_count": 11,
      "metadata": {
        "colab": {
          "base_uri": "https://localhost:8080/"
        },
        "id": "dOA8IVapaiqC",
        "outputId": "8d1a9845-382f-4a7b-9665-a9854a8a63e3"
      },
      "outputs": [
        {
          "name": "stdout",
          "output_type": "stream",
          "text": [
            "정수 입력> 5\n"
          ]
        }
      ],
      "source": [
        "# 입력을 받습니다.\n",
        "number = input(\"정수 입력> \")\n",
        "number = int(number)\n",
        "\n",
        "# 조건문 사용\n",
        "if number > 0:\n",
        "  # 양수일 때: 아직 미구현 상태입니다.\n",
        "  pass\n",
        "else:\n",
        "  # 음수일 때: 아직 미구현 상태입니다.\n",
        "  pass"
      ]
    }
  ]
}