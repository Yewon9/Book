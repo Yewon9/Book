{
  "nbformat": 4,
  "nbformat_minor": 0,
  "metadata": {
    "colab": {
      "provenance": []
    },
    "kernelspec": {
      "name": "python3",
      "display_name": "Python 3"
    },
    "language_info": {
      "name": "python"
    }
  },
  "cells": [
    {
      "cell_type": "code",
      "execution_count": 1,
      "metadata": {
        "colab": {
          "base_uri": "https://localhost:8080/"
        },
        "id": "1Gloo4iBZ7Sl",
        "outputId": "ade6685a-faa1-4b26-c783-b04b5ce67a7c"
      },
      "outputs": [
        {
          "output_type": "stream",
          "name": "stdout",
          "text": [
            "현재 시각은 6시로 오전입니다!\n"
          ]
        }
      ],
      "source": [
        "# 날짜/시간과 관련된 기능을 가져옵니다.\n",
        "import datetime\n",
        "\n",
        "# 현재 날짜/시간을 구합니다.\n",
        "now = datetime.datetime.now()\n",
        "\n",
        "# 오전 구분\n",
        "if now.hour < 12:\n",
        "  print(\"현재 시각은 {}시로 오전입니다!\".format(now.hour))\n",
        "\n",
        "# 오후 구분\n",
        "if now.hour >= 12:\n",
        "  print(\"현재 시각은 {}시로 오후입니다!\".format(now.hour))"
      ]
    }
  ]
}